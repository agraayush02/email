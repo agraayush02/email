{
 "cells": [
  {
   "cell_type": "code",
   "execution_count": null,
   "id": "cd69fa88",
   "metadata": {},
   "outputs": [],
   "source": [
    "#Email classifier machine learning model"
   ]
  },
  {
   "cell_type": "code",
   "execution_count": null,
   "id": "675f81cf",
   "metadata": {},
   "outputs": [],
   "source": [
    "import pandas as pd\n"
   ]
  },
  {
   "cell_type": "code",
   "execution_count": null,
   "id": "1878b073",
   "metadata": {},
   "outputs": [],
   "source": []
  },
  {
   "cell_type": "code",
   "execution_count": null,
   "id": "f4a53af5",
   "metadata": {},
   "outputs": [],
   "source": [
    "df=pd.read_csv('emails.csv')"
   ]
  },
  {
   "cell_type": "code",
   "execution_count": null,
   "id": "e1ed73d3",
   "metadata": {},
   "outputs": [
    {
     "data": {
      "text/html": [
       "<div>\n",
       "<style scoped>\n",
       "    .dataframe tbody tr th:only-of-type {\n",
       "        vertical-align: middle;\n",
       "    }\n",
       "\n",
       "    .dataframe tbody tr th {\n",
       "        vertical-align: top;\n",
       "    }\n",
       "\n",
       "    .dataframe thead th {\n",
       "        text-align: right;\n",
       "    }\n",
       "</style>\n",
       "<table border=\"1\" class=\"dataframe\">\n",
       "  <thead>\n",
       "    <tr style=\"text-align: right;\">\n",
       "      <th></th>\n",
       "      <th>text</th>\n",
       "      <th>spam</th>\n",
       "    </tr>\n",
       "  </thead>\n",
       "  <tbody>\n",
       "    <tr>\n",
       "      <th>0</th>\n",
       "      <td>Subject: naturally irresistible your corporate...</td>\n",
       "      <td>1</td>\n",
       "    </tr>\n",
       "    <tr>\n",
       "      <th>1</th>\n",
       "      <td>Subject: the stock trading gunslinger  fanny i...</td>\n",
       "      <td>1</td>\n",
       "    </tr>\n",
       "    <tr>\n",
       "      <th>2</th>\n",
       "      <td>Subject: unbelievable new homes made easy  im ...</td>\n",
       "      <td>1</td>\n",
       "    </tr>\n",
       "    <tr>\n",
       "      <th>3</th>\n",
       "      <td>Subject: 4 color printing special  request add...</td>\n",
       "      <td>1</td>\n",
       "    </tr>\n",
       "    <tr>\n",
       "      <th>4</th>\n",
       "      <td>Subject: do not have money , get software cds ...</td>\n",
       "      <td>1</td>\n",
       "    </tr>\n",
       "    <tr>\n",
       "      <th>...</th>\n",
       "      <td>...</td>\n",
       "      <td>...</td>\n",
       "    </tr>\n",
       "    <tr>\n",
       "      <th>5723</th>\n",
       "      <td>Subject: re : research and development charges...</td>\n",
       "      <td>0</td>\n",
       "    </tr>\n",
       "    <tr>\n",
       "      <th>5724</th>\n",
       "      <td>Subject: re : receipts from visit  jim ,  than...</td>\n",
       "      <td>0</td>\n",
       "    </tr>\n",
       "    <tr>\n",
       "      <th>5725</th>\n",
       "      <td>Subject: re : enron case study update  wow ! a...</td>\n",
       "      <td>0</td>\n",
       "    </tr>\n",
       "    <tr>\n",
       "      <th>5726</th>\n",
       "      <td>Subject: re : interest  david ,  please , call...</td>\n",
       "      <td>0</td>\n",
       "    </tr>\n",
       "    <tr>\n",
       "      <th>5727</th>\n",
       "      <td>Subject: news : aurora 5 . 2 update  aurora ve...</td>\n",
       "      <td>0</td>\n",
       "    </tr>\n",
       "  </tbody>\n",
       "</table>\n",
       "<p>5728 rows × 2 columns</p>\n",
       "</div>"
      ],
      "text/plain": [
       "                                                   text  spam\n",
       "0     Subject: naturally irresistible your corporate...     1\n",
       "1     Subject: the stock trading gunslinger  fanny i...     1\n",
       "2     Subject: unbelievable new homes made easy  im ...     1\n",
       "3     Subject: 4 color printing special  request add...     1\n",
       "4     Subject: do not have money , get software cds ...     1\n",
       "...                                                 ...   ...\n",
       "5723  Subject: re : research and development charges...     0\n",
       "5724  Subject: re : receipts from visit  jim ,  than...     0\n",
       "5725  Subject: re : enron case study update  wow ! a...     0\n",
       "5726  Subject: re : interest  david ,  please , call...     0\n",
       "5727  Subject: news : aurora 5 . 2 update  aurora ve...     0\n",
       "\n",
       "[5728 rows x 2 columns]"
      ]
     },
     "execution_count": 4,
     "metadata": {},
     "output_type": "execute_result"
    }
   ],
   "source": [
    "df"
   ]
  },
  {
   "cell_type": "code",
   "execution_count": null,
   "id": "1e441e4f",
   "metadata": {},
   "outputs": [
    {
     "data": {
      "text/html": [
       "<div>\n",
       "<style scoped>\n",
       "    .dataframe tbody tr th:only-of-type {\n",
       "        vertical-align: middle;\n",
       "    }\n",
       "\n",
       "    .dataframe tbody tr th {\n",
       "        vertical-align: top;\n",
       "    }\n",
       "\n",
       "    .dataframe thead tr th {\n",
       "        text-align: left;\n",
       "    }\n",
       "\n",
       "    .dataframe thead tr:last-of-type th {\n",
       "        text-align: right;\n",
       "    }\n",
       "</style>\n",
       "<table border=\"1\" class=\"dataframe\">\n",
       "  <thead>\n",
       "    <tr>\n",
       "      <th></th>\n",
       "      <th colspan=\"8\" halign=\"left\">spam</th>\n",
       "    </tr>\n",
       "    <tr>\n",
       "      <th></th>\n",
       "      <th>count</th>\n",
       "      <th>mean</th>\n",
       "      <th>std</th>\n",
       "      <th>min</th>\n",
       "      <th>25%</th>\n",
       "      <th>50%</th>\n",
       "      <th>75%</th>\n",
       "      <th>max</th>\n",
       "    </tr>\n",
       "    <tr>\n",
       "      <th>text</th>\n",
       "      <th></th>\n",
       "      <th></th>\n",
       "      <th></th>\n",
       "      <th></th>\n",
       "      <th></th>\n",
       "      <th></th>\n",
       "      <th></th>\n",
       "      <th></th>\n",
       "    </tr>\n",
       "  </thead>\n",
       "  <tbody>\n",
       "    <tr>\n",
       "      <th>Subject:   http : / / www . virtu  ally - anywhere . com / sports /  hello ,  i was hoping you could help me . the link above takes  you to  several  facility stadiumtours created by virtually  anywhere  interactive . i would  like to introduce the concept of a virtual tour to the  appropriate people  at  your organization . ( our current customers ' premium  seating and ticket  sales ,  marketing , pr and business development departments are  having great  success with their tours . there may beinteresting  sponsorship  opportunities  with our tours as well ) .  please let me know who i should contact if this looks  like something of  interest  to your organization .  many thanks , davidp . s . you may have seen  us at the alsd  show in houston ( last year ) . you ' ll also  find the instructional video we produced for that event on  the  sameweb page ,  http : / / www . virtu  ally - anywhere . com / sports / .  david bole 512 - 479 - 8222 phonehttp : / / www . virtually - an  ywhere . comdavid @ vatour . com</th>\n",
       "      <td>1.0</td>\n",
       "      <td>1.0</td>\n",
       "      <td>NaN</td>\n",
       "      <td>1.0</td>\n",
       "      <td>1.0</td>\n",
       "      <td>1.0</td>\n",
       "      <td>1.0</td>\n",
       "      <td>1.0</td>\n",
       "    </tr>\n",
       "    <tr>\n",
       "      <th>Subject: ! gorgeous , custom websites - $ 399 complete ! ( 4156 cumg 9 - 855 yqkc 5 @ 17 )  beautiful custom  websites , $ 399 complete !  get a beautiful , 100 % custom web site ( or  yours redesigned ) for only $ 399 ! * we  have references coast to coastand will give you  plenty of sites to  view !  includes up to 7 pages ( you can add  more ) , java rollover buttons , feedback forms , more . it  will be constructed to your taste and  specifications , we do not use templates .  our sites are completely  custom . * must host with us @  $ 19 . 95 / mo ( 100 megs , 20 email accounts , control panel ,  front page , graphical statistics ,  more ) .  for sites to view , complete below or call our  message center at 321 - 726 - 2209 ( 24 hours ) . your call  will be returned promptly . note : if  you are using a web based email program ( such as yahoo ,  hotmail , etc . ) the form below will not  work . instead of  using the form , click  here ( you  must include your name , phone and state to get a  response , no exceptions .  name : phone  w / ac * : state : type project : new  site : redesign current  site ? : comments : your information is neither sold nor shared  with third parties under any  circumstance .  to be eliminated from  future mailings , click  here  [ 6560 icum 3 - 199 gyqk 9350 cvph 2 - 701 z @ 29 ]</th>\n",
       "      <td>1.0</td>\n",
       "      <td>1.0</td>\n",
       "      <td>NaN</td>\n",
       "      <td>1.0</td>\n",
       "      <td>1.0</td>\n",
       "      <td>1.0</td>\n",
       "      <td>1.0</td>\n",
       "      <td>1.0</td>\n",
       "    </tr>\n",
       "    <tr>\n",
       "      <th>Subject: \"  content - type : text / plain ; charset = \" us - ascii \" ; format = flowed  content - transfer - encoding : 7 bit  subject : [ sa ] drive everywhere  sender : spamassassin - sightings - admin @ example . sourceforge . net  errors - to : spamassassin - sightings - admin @ example . sourceforge . net  x - beenthere : spamassassin - sightings @ example . sourceforge . net  x - mailman - version : 2 . 0 . 9 - sf . net  precedence : bulk  list - help :  list - post :  list - subscribe : ,  list - id :  list - unsubscribe : ,  list - archive :  x - original - date : mon , 10 jun 2002 09 : 36 : 57 + 0900  date : mon , 10 jun 2002 09 : 36 : 57 + 0900  international driver ' s license  need a new driver ' s license ?  too many points or other trouble ?  want a license that can never be suspended  or revoked ?  want an id for nightclubs or hotel check - in ?  avoid tickets , fines , and mandatory driver ' s  education .  protect your privacy , and hide your identity .  the united nations gave you the privilege to  drive freely throughout the world ! ( convention  on international road traffic of september 19 ,  1949 &amp; world court decision , the hague ,  netherlands , january 21 , 1958 )  take advantage of your rights . order a valid  international driver ' s license that can never  be suspended or revoked .  confidentiality assured .  call now ! ! !  1 - 770 - 908 - 3949  we await your call seven days a week , 24 hours a day ,  including sundays and holidays .  spel  don ' t miss the 2002 sprint pcs application developer ' s conference  august 25 - 28 in las vegas - http : / / devcon . sprintpcs . com / adp / index . cfm ? source = osdntextlink  spamassassin - sightings mailing list</th>\n",
       "      <td>1.0</td>\n",
       "      <td>1.0</td>\n",
       "      <td>NaN</td>\n",
       "      <td>1.0</td>\n",
       "      <td>1.0</td>\n",
       "      <td>1.0</td>\n",
       "      <td>1.0</td>\n",
       "      <td>1.0</td>\n",
       "    </tr>\n",
       "    <tr>\n",
       "      <th>Subject: \" enron day \" to be declared in spearman , texas  vince , f . y . i  - - - - - - - - - - - - - - - - - - - - - - forwarded by stinson gibner / hou / ect on 09 / 20 / 2000  02 : 28 pm - - - - - - - - - - - - - - - - - - - - - - - - - - -  stinson gibner  09 / 20 / 2000 02 : 28 pm  to : cindy olson / corp / enron @ enron  cc :  subject : \" enron day \" to be declared in spearman , texas  cindy ,  you may or may not remember that i sent a short note to you last may  outlining a fundraising effort for the hansford county library in spearman ,  texas . the community was challenged to raise $ 20 , 000 which i offered to  match 2 to 1 . with enron foundations employee match , this grows to a total  mathching ratio of $ 4 for every $ 1 raised by the community . ( of course ,  because of the $ 15 , 000 / year limit , i have to spread my gifts over several  years in order to get the total amount matched by enron . )  sherry benton , the librarian in spearman just called and gave me the great  news that the $ 20 , 000 in community donations has been achieved . in fact , i  expect that the total community number will come to almost $ 25 , 000 once all  of the donations are received .  in order to recognize our part in all this , the mayor of the town is planning  to declare october 17 th as \" stinson gibner and enron day \" in spearman , and  they would like to have some public ceremony to bestow this recognition .  there will be coverage by the local radio station and newspaper and ,  possibly , by the amarillo newspaper as well .  they are asking if a representative from enron ( other than myself ) would be  interested in coming to spearman for this event . please let me know if you  or anyone else would be interested in doing this . spearman is about a 90  minute drive north from the airport in amarillo , and it is possible to get  there and back to houston on the same day .  thanks ,  stinson gibner  x 34748  p . s . is there any possibility of getting a one time raise on the $ 15 , 000 / year  matching cap so that i can have $ 40 , 000 matched in just two years instead of  three ?  - - - - - - - - - - - - - - - - - - - - - - forwarded by stinson gibner / hou / ect on 09 / 20 / 2000  02 : 01 pm - - - - - - - - - - - - - - - - - - - - - - - - - - -  stinson gibner  05 / 05 / 2000 11 : 47 am  to : cindy olson / corp / enron @ enron  cc :  subject : thanks  cindy ,  i just received notification of enron ' s match of my $ 8000 donation to the  hansford county library in spearman , texas . ( all old pipeline hands know  spearman because both northern natural and transwestern pipelines run near by  the city . )  you may be interested to know what i am trying to accomplish there . the  library is one of the few independent public libraries in the state of texas  as it is owned neither by the county nor city . it ' s budget is met through a  combination of city , county , and private contributions . a big part of their  income comes from the \" thrift shop , \" spearman ' s version of the blue bird  circle . in order to help the library continue to provide quality services  to the community ( our library in spearman , population 3000 , is by all  accounts much better than the one in nearby perryton , population 15000 ) , i  am trying to help the library establish an endowment fund . we have set a  goal of raising $ 100 , 000 over the next 3 years . with enron ' s matching , i am  planning to provide about $ 80 , 000 of that amount with the other $ 20 , 000  coming from contributions from others in the local community .  i am also investigating if the library can get any type of matching grant  from other foundations , but it looks like most prefer to fund specific  projects rather than put funds towards endowments . let me know if you have  any suggestions for us .  thanks ,  stinson  x 34748</th>\n",
       "      <td>1.0</td>\n",
       "      <td>0.0</td>\n",
       "      <td>NaN</td>\n",
       "      <td>0.0</td>\n",
       "      <td>0.0</td>\n",
       "      <td>0.0</td>\n",
       "      <td>0.0</td>\n",
       "      <td>0.0</td>\n",
       "    </tr>\n",
       "    <tr>\n",
       "      <th>Subject: \" help millions \" - pledge today !  thank you for attending one of the executive breakfasts held at depelchin  children \u0001 , s center this week . seeing is believing . i hope you enjoyed seeing  first hand how the dollars you give really do make a difference .  as was mentioned in the breakfasts , it is very easy to make your contribution  this year by simply clicking on the united way link ,  http : / / unitedway . enron . com or go directly to internet explorer or netscape  and type in unitedway . enron . com in the address field . either option should  take you directly to enron \u0001 , s united way 2000 campaign site . pledge cards  will not be distributed this year , so please make your pledge electronically  - it only takes minutes !  please call me at 713 / 853 - 3264 if you have questions or have any difficulties  at all accessing the site .  thanks again ! your participation is important to the success of the campaign .</th>\n",
       "      <td>1.0</td>\n",
       "      <td>0.0</td>\n",
       "      <td>NaN</td>\n",
       "      <td>0.0</td>\n",
       "      <td>0.0</td>\n",
       "      <td>0.0</td>\n",
       "      <td>0.0</td>\n",
       "      <td>0.0</td>\n",
       "    </tr>\n",
       "    <tr>\n",
       "      <th>...</th>\n",
       "      <td>...</td>\n",
       "      <td>...</td>\n",
       "      <td>...</td>\n",
       "      <td>...</td>\n",
       "      <td>...</td>\n",
       "      <td>...</td>\n",
       "      <td>...</td>\n",
       "      <td>...</td>\n",
       "    </tr>\n",
       "    <tr>\n",
       "      <th>Subject: zimin ' s father  vince and stinson ,  i have to go back to china to attend my father ' s funeral on saterday jan . 20 .  my father passed away last sunday .  my schedule is :  leave houston : jan 18 ( thursday )  arrive houston : jan 27 ( saterday )  i will take care of a few things before i go  1 ) review for paulo and bob  2 ) talk to alex on the compound option on a power plant  3 ) talk to bob on volatility and correlation skews , to finish up this project  for john arnold  4 ) telephone interview for japan office .  zimin</th>\n",
       "      <td>1.0</td>\n",
       "      <td>0.0</td>\n",
       "      <td>NaN</td>\n",
       "      <td>0.0</td>\n",
       "      <td>0.0</td>\n",
       "      <td>0.0</td>\n",
       "      <td>0.0</td>\n",
       "      <td>0.0</td>\n",
       "    </tr>\n",
       "    <tr>\n",
       "      <th>Subject: zingales seminar  enron seminar series in financejones graduate school of management , rice  universityluigi zingalesuniversity of chicagowill give a seminar at the jones  school on friday , april 27 , ? \" the great reversals : the politics of financial  development in the 20 th century . \" the seminar will begin at 3 : 30 in room 105 . a  pdf of the paper is available through the seminar website :  http : / / www . ruf . rice . edu / ~ jgsfss / .  fu - kuo albert wangassistant professorjones graduate school of management - -  ms 531 ? rice university ? 6100 main street ? houston , tx 77005 ? phone :  713 - 348 - 5404 ? fax : ? ? ? ? 713 - 348 - 5251 email : wangfa @ rice . eduhttp  : / / www . ruf . rice . edu / ~ wangfa /</th>\n",
       "      <td>1.0</td>\n",
       "      <td>0.0</td>\n",
       "      <td>NaN</td>\n",
       "      <td>0.0</td>\n",
       "      <td>0.0</td>\n",
       "      <td>0.0</td>\n",
       "      <td>0.0</td>\n",
       "      <td>0.0</td>\n",
       "    </tr>\n",
       "    <tr>\n",
       "      <th>Subject: zingales seminar  enron seminar series in financejones graduate school of management , rice universityluigi zingalesuniversity of chicagowill give a seminar at the jones school on friday , april 27 , \" the great reversals : the politics of financial development in the 20 th century . \" the seminar will begin at 3 : 30 in room 105 . a pdf of the paper is available through the seminar website : http : / / www . ruf . rice . edu / ~ jgsfss / .  fu - kuo albert wangassistant professorjones graduate school of management - - ms 531 rice university 6100 main street houston , tx 77005 phone : 713 - 348 - 5404 fax : 713 - 348 - 5251 email : wangfa @ rice . eduhttp : / / www . ruf . rice . edu / ~ wangfa /</th>\n",
       "      <td>1.0</td>\n",
       "      <td>0.0</td>\n",
       "      <td>NaN</td>\n",
       "      <td>0.0</td>\n",
       "      <td>0.0</td>\n",
       "      <td>0.0</td>\n",
       "      <td>0.0</td>\n",
       "      <td>0.0</td>\n",
       "    </tr>\n",
       "    <tr>\n",
       "      <th>Subject: zingales seminar  fyi !  - - - - - - - - - - - - - - - - - - - - - - forwarded by shirley crenshaw / hou / ect on 04 / 23 / 2001  03 : 44 pm - - - - - - - - - - - - - - - - - - - - - - - - - - -  albert wang on 04 / 23 / 2001 11 : 23 : 22 am  to : ( recipient list suppressed )  cc :  subject : zingales seminar  enron seminar series in finance  jones graduate school of management , rice university  luigi zingales  university of chicago  will give a seminar at the jones school on friday , april 27 , ?  \" the great reversals : the politics of financial development in the 20 th  century . \"  the seminar will begin at 3 : 30 in room 105 .  a pdf of the paper is available through the seminar website :  http : / / www . ruf . rice . edu / ~ jgsfss / .  fu - kuo albert wang  assistant professor  jones graduate school of management - - ms 531 ?  rice university ?  6100 main street ?  houston , tx 77005 ?  phone : 713 - 348 - 5404 ?  fax : ? ? ? ? 713 - 348 - 5251  email : wangfa @ rice . edu  http : / / www . ruf . rice . edu / ~ wangfa /</th>\n",
       "      <td>1.0</td>\n",
       "      <td>0.0</td>\n",
       "      <td>NaN</td>\n",
       "      <td>0.0</td>\n",
       "      <td>0.0</td>\n",
       "      <td>0.0</td>\n",
       "      <td>0.0</td>\n",
       "      <td>0.0</td>\n",
       "    </tr>\n",
       "    <tr>\n",
       "      <th>Subject: zingales seminar  fyi !  - - - - - - - - - - - - - - - - - - - - - - forwarded by shirley crenshaw / hou / ect on 04 / 23 / 2001 03 : 44 pm - - - - - - - - - - - - - - - - - - - - - - - - - - -  albert wang on 04 / 23 / 2001 11 : 23 : 22 am  to : ( recipient list suppressed )  cc :  subject : zingales seminar  enron seminar series in finance  jones graduate school of management , rice university  luigi zingales  university of chicago  will give a seminar at the jones school on friday , april 27 ,  \" the great reversals : the politics of financial development in the 20 th century . \"  the seminar will begin at 3 : 30 in room 105 .  a pdf of the paper is available through the seminar website :  http : / / www . ruf . rice . edu / ~ jgsfss / .  fu - kuo albert wang  assistant professor  jones graduate school of management - - ms 531  rice university  6100 main street  houston , tx 77005  phone : 713 - 348 - 5404  fax : 713 - 348 - 5251  email : wangfa @ rice . edu  http : / / www . ruf . rice . edu / ~ wangfa /</th>\n",
       "      <td>1.0</td>\n",
       "      <td>0.0</td>\n",
       "      <td>NaN</td>\n",
       "      <td>0.0</td>\n",
       "      <td>0.0</td>\n",
       "      <td>0.0</td>\n",
       "      <td>0.0</td>\n",
       "      <td>0.0</td>\n",
       "    </tr>\n",
       "  </tbody>\n",
       "</table>\n",
       "<p>5695 rows × 8 columns</p>\n",
       "</div>"
      ],
      "text/plain": [
       "                                                    spam                     \\\n",
       "                                                   count mean std  min  25%   \n",
       "text                                                                          \n",
       "Subject:   http : / / www . virtu  ally - anywh...   1.0  1.0 NaN  1.0  1.0   \n",
       "Subject: ! gorgeous , custom websites - $ 399 c...   1.0  1.0 NaN  1.0  1.0   \n",
       "Subject: \"  content - type : text / plain ; cha...   1.0  1.0 NaN  1.0  1.0   \n",
       "Subject: \" enron day \" to be declared in spearm...   1.0  0.0 NaN  0.0  0.0   \n",
       "Subject: \" help millions \" - pledge today !  th...   1.0  0.0 NaN  0.0  0.0   \n",
       "...                                                  ...  ...  ..  ...  ...   \n",
       "Subject: zimin ' s father  vince and stinson , ...   1.0  0.0 NaN  0.0  0.0   \n",
       "Subject: zingales seminar  enron seminar series...   1.0  0.0 NaN  0.0  0.0   \n",
       "Subject: zingales seminar  enron seminar series...   1.0  0.0 NaN  0.0  0.0   \n",
       "Subject: zingales seminar  fyi !  - - - - - - -...   1.0  0.0 NaN  0.0  0.0   \n",
       "Subject: zingales seminar  fyi !  - - - - - - -...   1.0  0.0 NaN  0.0  0.0   \n",
       "\n",
       "                                                                   \n",
       "                                                    50%  75%  max  \n",
       "text                                                               \n",
       "Subject:   http : / / www . virtu  ally - anywh...  1.0  1.0  1.0  \n",
       "Subject: ! gorgeous , custom websites - $ 399 c...  1.0  1.0  1.0  \n",
       "Subject: \"  content - type : text / plain ; cha...  1.0  1.0  1.0  \n",
       "Subject: \" enron day \" to be declared in spearm...  0.0  0.0  0.0  \n",
       "Subject: \" help millions \" - pledge today !  th...  0.0  0.0  0.0  \n",
       "...                                                 ...  ...  ...  \n",
       "Subject: zimin ' s father  vince and stinson , ...  0.0  0.0  0.0  \n",
       "Subject: zingales seminar  enron seminar series...  0.0  0.0  0.0  \n",
       "Subject: zingales seminar  enron seminar series...  0.0  0.0  0.0  \n",
       "Subject: zingales seminar  fyi !  - - - - - - -...  0.0  0.0  0.0  \n",
       "Subject: zingales seminar  fyi !  - - - - - - -...  0.0  0.0  0.0  \n",
       "\n",
       "[5695 rows x 8 columns]"
      ]
     },
     "execution_count": 5,
     "metadata": {},
     "output_type": "execute_result"
    }
   ],
   "source": [
    "df.groupby('text').describe()"
   ]
  },
  {
   "cell_type": "code",
   "execution_count": null,
   "id": "d8739bea",
   "metadata": {},
   "outputs": [
    {
     "data": {
      "text/plain": [
       "33"
      ]
     },
     "execution_count": 12,
     "metadata": {},
     "output_type": "execute_result"
    }
   ],
   "source": [
    "df.duplicated().sum()"
   ]
  },
  {
   "cell_type": "code",
   "execution_count": null,
   "id": "9426382b",
   "metadata": {},
   "outputs": [],
   "source": [
    "df.drop_duplicates(inplace=True)"
   ]
  },
  {
   "cell_type": "code",
   "execution_count": null,
   "id": "dce78c74",
   "metadata": {},
   "outputs": [
    {
     "data": {
      "text/plain": [
       "0"
      ]
     },
     "execution_count": 19,
     "metadata": {},
     "output_type": "execute_result"
    }
   ],
   "source": [
    "df.duplicated().sum()"
   ]
  },
  {
   "cell_type": "code",
   "execution_count": null,
   "id": "e46fb6a7",
   "metadata": {},
   "outputs": [
    {
     "data": {
      "text/plain": [
       "text    False\n",
       "spam    False\n",
       "dtype: bool"
      ]
     },
     "execution_count": 20,
     "metadata": {},
     "output_type": "execute_result"
    }
   ],
   "source": [
    "df.isnull().any()"
   ]
  },
  {
   "cell_type": "code",
   "execution_count": null,
   "id": "4870973f",
   "metadata": {},
   "outputs": [],
   "source": [
    "import seaborn as sns"
   ]
  },
  {
   "cell_type": "code",
   "execution_count": null,
   "id": "74a964ce",
   "metadata": {},
   "outputs": [
    {
     "data": {
      "text/plain": [
       "<Axes: xlabel='spam', ylabel='count'>"
      ]
     },
     "execution_count": 33,
     "metadata": {},
     "output_type": "execute_result"
    },
    {
     "data": {
      "image/png": "[encoded data removed]",
      "text/plain": [
       "<Figure size 640x480 with 1 Axes>"
      ]
     },
     "metadata": {},
     "output_type": "display_data"
    }
   ],
   "source": [
    "sns.countplot(x='spam',data=df)"
   ]
  },
  {
   "cell_type": "code",
   "execution_count": null,
   "id": "fbdfd9e4",
   "metadata": {},
   "outputs": [],
   "source": [
    "from sklearn.model_selection import train_test_split\n",
    "x_train,x_test,y_train,y_test=train_test_split(df.text,df.spam)"
   ]
  },
  {
   "cell_type": "code",
   "execution_count": null,
   "id": "f1af94bf",
   "metadata": {},
   "outputs": [
    {
     "data": {
      "text/plain": [
       "(4271,)"
      ]
     },
     "execution_count": 35,
     "metadata": {},
     "output_type": "execute_result"
    }
   ],
   "source": [
    "x_train.shape"
   ]
  },
  {
   "cell_type": "code",
   "execution_count": null,
   "id": "6fbd0539",
   "metadata": {},
   "outputs": [
    {
     "data": {
      "text/plain": [
       "(1424,)"
      ]
     },
     "execution_count": 36,
     "metadata": {},
     "output_type": "execute_result"
    }
   ],
   "source": [
    "x_test.shape"
   ]
  },
  {
   "cell_type": "code",
   "execution_count": null,
   "id": "4f45716b",
   "metadata": {},
   "outputs": [
    {
     "data": {
      "text/plain": [
       "(4271,)"
      ]
     },
     "execution_count": 37,
     "metadata": {},
     "output_type": "execute_result"
    }
   ],
   "source": [
    "y_train.shape"
   ]
  },
  {
   "cell_type": "code",
   "execution_count": null,
   "id": "c7c0fdbd",
   "metadata": {},
   "outputs": [
    {
     "data": {
      "text/plain": [
       "(1424,)"
      ]
     },
     "execution_count": 38,
     "metadata": {},
     "output_type": "execute_result"
    }
   ],
   "source": [
    "y_test.shape\n"
   ]
  },
  {
   "cell_type": "code",
   "execution_count": null,
   "id": "8278fac2",
   "metadata": {},
   "outputs": [],
   "source": [
    "#Preprocessing"
   ]
  },
  {
   "cell_type": "code",
   "execution_count": null,
   "id": "4697d515",
   "metadata": {},
   "outputs": [],
   "source": [
    "\n",
    "from sklearn.feature_extraction.text import CountVectorizer"
   ]
  },
  {
   "cell_type": "code",
   "execution_count": null,
   "id": "17d0a06c",
   "metadata": {},
   "outputs": [],
   "source": [
    "cv=CountVectorizer()"
   ]
  },
  {
   "cell_type": "code",
   "execution_count": null,
   "id": "e16784fb",
   "metadata": {},
   "outputs": [],
   "source": [
    "from sklearn.naive_bayes import MultinomialNB\n",
    "from sklearn.pipeline import make_pipeline"
   ]
  },
  {
   "cell_type": "code",
   "execution_count": null,
   "id": "fb4ebcad",
   "metadata": {},
   "outputs": [],
   "source": [
    "nb=MultinomialNB()"
   ]
  },
  {
   "cell_type": "code",
   "execution_count": null,
   "id": "9c664e90",
   "metadata": {},
   "outputs": [],
   "source": [
    "pipe=make_pipeline(cv,nb)"
   ]
  },
  {
   "cell_type": "code",
   "execution_count": null,
   "id": "c4a4675a",
   "metadata": {},
   "outputs": [
    {
     "data": {
      "text/html": [
       "<style>#sk-container-id-1 {color: black;}#sk-container-id-1 pre{padding: 0;}#sk-container-id-1 div.sk-toggleable {background-color: white;}#sk-container-id-1 label.sk-toggleable__label {cursor: pointer;display: block;width: 100%;margin-bottom: 0;padding: 0.3em;box-sizing: border-box;text-align: center;}#sk-container-id-1 label.sk-toggleable__label-arrow:before {content: \"▸\";float: left;margin-right: 0.25em;color: #696969;}#sk-container-id-1 label.sk-toggleable__label-arrow:hover:before {color: black;}#sk-container-id-1 div.sk-estimator:hover label.sk-toggleable__label-arrow:before {color: black;}#sk-container-id-1 div.sk-toggleable__content {max-height: 0;max-width: 0;overflow: hidden;text-align: left;background-color: #f0f8ff;}#sk-container-id-1 div.sk-toggleable__content pre {margin: 0.2em;color: black;border-radius: 0.25em;background-color: #f0f8ff;}#sk-container-id-1 input.sk-toggleable__control:checked~div.sk-toggleable__content {max-height: 200px;max-width: 100%;overflow: auto;}#sk-container-id-1 input.sk-toggleable__control:checked~label.sk-toggleable__label-arrow:before {content: \"▾\";}#sk-container-id-1 div.sk-estimator input.sk-toggleable__control:checked~label.sk-toggleable__label {background-color: #d4ebff;}#sk-container-id-1 div.sk-label input.sk-toggleable__control:checked~label.sk-toggleable__label {background-color: #d4ebff;}#sk-container-id-1 input.sk-hidden--visually {border: 0;clip: rect(1px 1px 1px 1px);clip: rect(1px, 1px, 1px, 1px);height: 1px;margin: -1px;overflow: hidden;padding: 0;position: absolute;width: 1px;}#sk-container-id-1 div.sk-estimator {font-family: monospace;background-color: #f0f8ff;border: 1px dotted black;border-radius: 0.25em;box-sizing: border-box;margin-bottom: 0.5em;}#sk-container-id-1 div.sk-estimator:hover {background-color: #d4ebff;}#sk-container-id-1 div.sk-parallel-item::after {content: \"\";width: 100%;border-bottom: 1px solid gray;flex-grow: 1;}#sk-container-id-1 div.sk-label:hover label.sk-toggleable__label {background-color: #d4ebff;}#sk-container-id-1 div.sk-serial::before {content: \"\";position: absolute;border-left: 1px solid gray;box-sizing: border-box;top: 0;bottom: 0;left: 50%;z-index: 0;}#sk-container-id-1 div.sk-serial {display: flex;flex-direction: column;align-items: center;background-color: white;padding-right: 0.2em;padding-left: 0.2em;position: relative;}#sk-container-id-1 div.sk-item {position: relative;z-index: 1;}#sk-container-id-1 div.sk-parallel {display: flex;align-items: stretch;justify-content: center;background-color: white;position: relative;}#sk-container-id-1 div.sk-item::before, #sk-container-id-1 div.sk-parallel-item::before {content: \"\";position: absolute;border-left: 1px solid gray;box-sizing: border-box;top: 0;bottom: 0;left: 50%;z-index: -1;}#sk-container-id-1 div.sk-parallel-item {display: flex;flex-direction: column;z-index: 1;position: relative;background-color: white;}#sk-container-id-1 div.sk-parallel-item:first-child::after {align-self: flex-end;width: 50%;}#sk-container-id-1 div.sk-parallel-item:last-child::after {align-self: flex-start;width: 50%;}#sk-container-id-1 div.sk-parallel-item:only-child::after {width: 0;}#sk-container-id-1 div.sk-dashed-wrapped {border: 1px dashed gray;margin: 0 0.4em 0.5em 0.4em;box-sizing: border-box;padding-bottom: 0.4em;background-color: white;}#sk-container-id-1 div.sk-label label {font-family: monospace;font-weight: bold;display: inline-block;line-height: 1.2em;}#sk-container-id-1 div.sk-label-container {text-align: center;}#sk-container-id-1 div.sk-container {/* jupyter's `normalize.less` sets `[hidden] { display: none; }` but bootstrap.min.css set `[hidden] { display: none !important; }` so we also need the `!important` here to be able to override the default hidden behavior on the sphinx rendered scikit-learn.org. See: https://github.com/scikit-learn/scikit-learn/issues/21755 */display: inline-block !important;position: relative;}#sk-container-id-1 div.sk-text-repr-fallback {display: none;}</style><div id=\"sk-container-id-1\" class=\"sk-top-container\"><div class=\"sk-text-repr-fallback\"><pre>Pipeline(steps=[(&#x27;countvectorizer&#x27;, CountVectorizer()),\n",
       "                (&#x27;multinomialnb&#x27;, MultinomialNB())])</pre><b>In a Jupyter environment, please rerun this cell to show the HTML representation or trust the notebook. <br />On GitHub, the HTML representation is unable to render, please try loading this page with nbviewer.org.</b></div><div class=\"sk-container\" hidden><div class=\"sk-item sk-dashed-wrapped\"><div class=\"sk-label-container\"><div class=\"sk-label sk-toggleable\"><input class=\"sk-toggleable__control sk-hidden--visually\" id=\"sk-estimator-id-1\" type=\"checkbox\" ><label for=\"sk-estimator-id-1\" class=\"sk-toggleable__label sk-toggleable__label-arrow\">Pipeline</label><div class=\"sk-toggleable__content\"><pre>Pipeline(steps=[(&#x27;countvectorizer&#x27;, CountVectorizer()),\n",
       "                (&#x27;multinomialnb&#x27;, MultinomialNB())])</pre></div></div></div><div class=\"sk-serial\"><div class=\"sk-item\"><div class=\"sk-estimator sk-toggleable\"><input class=\"sk-toggleable__control sk-hidden--visually\" id=\"sk-estimator-id-2\" type=\"checkbox\" ><label for=\"sk-estimator-id-2\" class=\"sk-toggleable__label sk-toggleable__label-arrow\">CountVectorizer</label><div class=\"sk-toggleable__content\"><pre>CountVectorizer()</pre></div></div></div><div class=\"sk-item\"><div class=\"sk-estimator sk-toggleable\"><input class=\"sk-toggleable__control sk-hidden--visually\" id=\"sk-estimator-id-3\" type=\"checkbox\" ><label for=\"sk-estimator-id-3\" class=\"sk-toggleable__label sk-toggleable__label-arrow\">MultinomialNB</label><div class=\"sk-toggleable__content\"><pre>MultinomialNB()</pre></div></div></div></div></div></div></div>"
      ],
      "text/plain": [
       "Pipeline(steps=[('countvectorizer', CountVectorizer()),\n",
       "                ('multinomialnb', MultinomialNB())])"
      ]
     },
     "execution_count": 49,
     "metadata": {},
     "output_type": "execute_result"
    }
   ],
   "source": [
    "pipe.fit(x_train,y_train)"
   ]
  },
  {
   "cell_type": "code",
   "execution_count": null,
   "id": "ff0cea49",
   "metadata": {},
   "outputs": [
    {
     "data": {
      "text/plain": [
       "0.9962538047295715"
      ]
     },
     "execution_count": 50,
     "metadata": {},
     "output_type": "execute_result"
    }
   ],
   "source": [
    "pipe.score(x_train,y_train)"
   ]
  },
  {
   "cell_type": "code",
   "execution_count": null,
   "id": "1bbeb72d",
   "metadata": {},
   "outputs": [
    {
     "data": {
      "text/plain": [
       "array([1], dtype=int64)"
      ]
     },
     "execution_count": 51,
     "metadata": {},
     "output_type": "execute_result"
    }
   ],
   "source": [
    "email = ['Hey i am Elon Musk. Get a brand new car from Tesla']\n",
    "pipe.predict(email)"
   ]
  },
  {
   "cell_type": "code",
   "execution_count": null,
   "id": "fef6bdae",
   "metadata": {},
   "outputs": [
    {
     "data": {
      "text/plain": [
       "0.9957865168539326"
      ]
     },
     "execution_count": 52,
     "metadata": {},
     "output_type": "execute_result"
    }
   ],
   "source": [
    "pipe.score(x_test,y_test)"
   ]
  },
  {
   "cell_type": "code",
   "execution_count": null,
   "id": "45ed3efb",
   "metadata": {},
   "outputs": [],
   "source": [
    "import pickle\n",
    "pickle.dump(pipe, open(\"Naive_model.pkl\",'wb'))"
   ]
  },
  {
   "cell_type": "code",
   "execution_count": null,
   "id": "2d3c49e6",
   "metadata": {},
   "outputs": [
    {
     "data": {
      "text/html": [
       "<style>#sk-container-id-2 {color: black;}#sk-container-id-2 pre{padding: 0;}#sk-container-id-2 div.sk-toggleable {background-color: white;}#sk-container-id-2 label.sk-toggleable__label {cursor: pointer;display: block;width: 100%;margin-bottom: 0;padding: 0.3em;box-sizing: border-box;text-align: center;}#sk-container-id-2 label.sk-toggleable__label-arrow:before {content: \"▸\";float: left;margin-right: 0.25em;color: #696969;}#sk-container-id-2 label.sk-toggleable__label-arrow:hover:before {color: black;}#sk-container-id-2 div.sk-estimator:hover label.sk-toggleable__label-arrow:before {color: black;}#sk-container-id-2 div.sk-toggleable__content {max-height: 0;max-width: 0;overflow: hidden;text-align: left;background-color: #f0f8ff;}#sk-container-id-2 div.sk-toggleable__content pre {margin: 0.2em;color: black;border-radius: 0.25em;background-color: #f0f8ff;}#sk-container-id-2 input.sk-toggleable__control:checked~div.sk-toggleable__content {max-height: 200px;max-width: 100%;overflow: auto;}#sk-container-id-2 input.sk-toggleable__control:checked~label.sk-toggleable__label-arrow:before {content: \"▾\";}#sk-container-id-2 div.sk-estimator input.sk-toggleable__control:checked~label.sk-toggleable__label {background-color: #d4ebff;}#sk-container-id-2 div.sk-label input.sk-toggleable__control:checked~label.sk-toggleable__label {background-color: #d4ebff;}#sk-container-id-2 input.sk-hidden--visually {border: 0;clip: rect(1px 1px 1px 1px);clip: rect(1px, 1px, 1px, 1px);height: 1px;margin: -1px;overflow: hidden;padding: 0;position: absolute;width: 1px;}#sk-container-id-2 div.sk-estimator {font-family: monospace;background-color: #f0f8ff;border: 1px dotted black;border-radius: 0.25em;box-sizing: border-box;margin-bottom: 0.5em;}#sk-container-id-2 div.sk-estimator:hover {background-color: #d4ebff;}#sk-container-id-2 div.sk-parallel-item::after {content: \"\";width: 100%;border-bottom: 1px solid gray;flex-grow: 1;}#sk-container-id-2 div.sk-label:hover label.sk-toggleable__label {background-color: #d4ebff;}#sk-container-id-2 div.sk-serial::before {content: \"\";position: absolute;border-left: 1px solid gray;box-sizing: border-box;top: 0;bottom: 0;left: 50%;z-index: 0;}#sk-container-id-2 div.sk-serial {display: flex;flex-direction: column;align-items: center;background-color: white;padding-right: 0.2em;padding-left: 0.2em;position: relative;}#sk-container-id-2 div.sk-item {position: relative;z-index: 1;}#sk-container-id-2 div.sk-parallel {display: flex;align-items: stretch;justify-content: center;background-color: white;position: relative;}#sk-container-id-2 div.sk-item::before, #sk-container-id-2 div.sk-parallel-item::before {content: \"\";position: absolute;border-left: 1px solid gray;box-sizing: border-box;top: 0;bottom: 0;left: 50%;z-index: -1;}#sk-container-id-2 div.sk-parallel-item {display: flex;flex-direction: column;z-index: 1;position: relative;background-color: white;}#sk-container-id-2 div.sk-parallel-item:first-child::after {align-self: flex-end;width: 50%;}#sk-container-id-2 div.sk-parallel-item:last-child::after {align-self: flex-start;width: 50%;}#sk-container-id-2 div.sk-parallel-item:only-child::after {width: 0;}#sk-container-id-2 div.sk-dashed-wrapped {border: 1px dashed gray;margin: 0 0.4em 0.5em 0.4em;box-sizing: border-box;padding-bottom: 0.4em;background-color: white;}#sk-container-id-2 div.sk-label label {font-family: monospace;font-weight: bold;display: inline-block;line-height: 1.2em;}#sk-container-id-2 div.sk-label-container {text-align: center;}#sk-container-id-2 div.sk-container {/* jupyter's `normalize.less` sets `[hidden] { display: none; }` but bootstrap.min.css set `[hidden] { display: none !important; }` so we also need the `!important` here to be able to override the default hidden behavior on the sphinx rendered scikit-learn.org. See: https://github.com/scikit-learn/scikit-learn/issues/21755 */display: inline-block !important;position: relative;}#sk-container-id-2 div.sk-text-repr-fallback {display: none;}</style><div id=\"sk-container-id-2\" class=\"sk-top-container\"><div class=\"sk-text-repr-fallback\"><pre>CountVectorizer()</pre><b>In a Jupyter environment, please rerun this cell to show the HTML representation or trust the notebook. <br />On GitHub, the HTML representation is unable to render, please try loading this page with nbviewer.org.</b></div><div class=\"sk-container\" hidden><div class=\"sk-item\"><div class=\"sk-estimator sk-toggleable\"><input class=\"sk-toggleable__control sk-hidden--visually\" id=\"sk-estimator-id-4\" type=\"checkbox\" checked><label for=\"sk-estimator-id-4\" class=\"sk-toggleable__label sk-toggleable__label-arrow\">CountVectorizer</label><div class=\"sk-toggleable__content\"><pre>CountVectorizer()</pre></div></div></div></div></div>"
      ],
      "text/plain": [
       "CountVectorizer()"
      ]
     },
     "execution_count": 54,
     "metadata": {},
     "output_type": "execute_result"
    }
   ],
   "source": [
    "cv"
   ]
  },
  {
   "cell_type": "code",
   "execution_count": null,
   "id": "191c756f",
   "metadata": {},
   "outputs": [],
   "source": []
  }
 ],
 "metadata": {
  "kernelspec": {
   "display_name": "Python 3 (ipykernel)",
   "language": "python",
   "name": "python3"
  },
  "language_info": {
   "codemirror_mode": {
    "name": "ipython",
    "version": 3
   },
   "file_extension": ".py",
   "mimetype": "text/x-python",
   "name": "python",
   "nbconvert_exporter": "python",
   "pygments_lexer": "ipython3",
   "version": "3.11.5"
  }
 },
 "nbformat": 4,
 "nbformat_minor": 5
}
